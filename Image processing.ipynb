{
 "cells": [
  {
   "cell_type": "code",
   "execution_count": 1,
   "id": "244c5472",
   "metadata": {},
   "outputs": [],
   "source": [
    "%config Completer.use_jedi = False\n",
    "\n",
    "import tensorflow as tf\n",
    "from tensorflow.keras import regularizers\n",
    "from PIL import Image\n",
    "import matplotlib.pyplot as plt\n",
    "import os\n",
    "import numpy as np"
   ]
  },
  {
   "cell_type": "code",
   "execution_count": 2,
   "id": "177836ad",
   "metadata": {},
   "outputs": [],
   "source": [
    "BUFFER_SIZE = 24\n",
    "BATCH_SIZE = 1\n",
    "IMG_WIDTH = 512\n",
    "IMG_HEIGHT = 512\n",
    "OUTPUT_CHANNELS = 3\n",
    "path = 'dataset Dir'"
   ]
  },
  {
   "cell_type": "markdown",
   "id": "c4c4da37",
   "metadata": {},
   "source": [
    "## 1. Image processing"
   ]
  },
  {
   "cell_type": "code",
   "execution_count": 3,
   "id": "1ccb0410",
   "metadata": {},
   "outputs": [],
   "source": [
    "def white_bars(img):    \n",
    "    #Width and height of the original image\n",
    "    w_i, h_i = img.size\n",
    "    \n",
    "    if w_i != h_i:\n",
    "        largo = w_i if w_i > h_i else h_i\n",
    "        #Background\n",
    "        bg = Image.new('RGB',(largo,largo),(255,255,255,255))\n",
    "        offset = (int(round(((largo - w_i) / 2), 0)), int(round(((largo - h_i) / 2),0)))\n",
    "        bg.paste(img,offset)\n",
    "    else:\n",
    "        print(\"Square Image\")\n",
    "        return img\n",
    "    \n",
    "    return bg"
   ]
  },
  {
   "cell_type": "code",
   "execution_count": 4,
   "id": "546815d7",
   "metadata": {},
   "outputs": [],
   "source": [
    "def image_resize(path,scale):\n",
    "    path_, paths, files = next(os.walk(path + 'cars_train/'))\n",
    "    \n",
    "    for i,val in enumerate(files):   \n",
    "        img = Image.open(path + 'cars_train/' + val)\n",
    "                \n",
    "        w_i, h_i = img.size\n",
    "        r = h_i / w_i\n",
    "        \n",
    "        #Resized image size\n",
    "        w_f = IMG_WIDTH\n",
    "        h_f = int(np.rint(r * w_f))\n",
    "\n",
    "        img_hr = img.resize((w_f,h_f))\n",
    "        img_lr = img_hr.resize((w_f//scale,h_f//scale)).resize((w_f,h_f))\n",
    "        \n",
    "        img_hr = white_bars(img_hr)\n",
    "        img_lr = white_bars(img_lr)\n",
    "        \n",
    "        img_concat = Image.new('RGB',(img_hr.width + img_lr.width, img_hr.height))\n",
    "        img_concat.paste(img_hr,(0,0))\n",
    "        img_concat.paste(img_lr,(img_hr.width,0))\n",
    "                \n",
    "        img_concat.save(path + 're_train/' + str(i+1)+'.jpeg')\n"
   ]
  },
  {
   "cell_type": "code",
   "execution_count": null,
   "id": "4dd6a208",
   "metadata": {},
   "outputs": [],
   "source": [
    "image_resize(path,2)"
   ]
  }
 ],
 "metadata": {
  "kernelspec": {
   "display_name": "Python 3 (ipykernel)",
   "language": "python",
   "name": "python3"
  },
  "language_info": {
   "codemirror_mode": {
    "name": "ipython",
    "version": 3
   },
   "file_extension": ".py",
   "mimetype": "text/x-python",
   "name": "python",
   "nbconvert_exporter": "python",
   "pygments_lexer": "ipython3",
   "version": "3.8.15"
  }
 },
 "nbformat": 4,
 "nbformat_minor": 5
}
